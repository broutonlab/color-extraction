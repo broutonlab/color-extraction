{
 "cells": [
  {
   "cell_type": "code",
   "execution_count": 1,
   "id": "strange-weekend",
   "metadata": {},
   "outputs": [],
   "source": [
    "import cv2\n",
    "from matplotlib import pyplot as plt\n",
    "import sys\n",
    "sys.path.insert(0, '../')\n",
    "from utils.topological_colors_extraction import extract_common_colors\n",
    "from utils.visualization import add_color_bar_to_image\n",
    "\n",
    "%matplotlib inline"
   ]
  },
  {
   "cell_type": "code",
   "execution_count": 2,
   "id": "educated-shame",
   "metadata": {},
   "outputs": [],
   "source": [
    "image_path = '../examples/Google-Logo.png'\n",
    "img = cv2.imread(image_path, cv2.IMREAD_COLOR)\n",
    "\n",
    "if img is None:\n",
    "    print('Can\\'t load image: {}'.format(image_path))\n",
    "    \n",
    "img = cv2.cvtColor(img, cv2.COLOR_BGR2RGB)"
   ]
  },
  {
   "cell_type": "code",
   "execution_count": 3,
   "id": "boring-moderator",
   "metadata": {},
   "outputs": [
    {
     "name": "stdout",
     "output_type": "stream",
     "text": [
      "WARNING:tensorflow:From ../third_party/palette_embedding/python/palette_embedding.py:145: load (from tensorflow.python.saved_model.loader_impl) is deprecated and will be removed in a future version.\n",
      "Instructions for updating:\n",
      "This function will only be available through the v1 compatibility library as tf.compat.v1.saved_model.loader.load or tf.compat.v1.saved_model.load. There will be a new function for importing SavedModels in Tensorflow 2.0.\n",
      "WARNING:tensorflow:The saved meta_graph is possibly from an older release:\n",
      "'model_variables' collection should be of type 'byte_list', but instead is of type 'node_list'.\n",
      "INFO:tensorflow:Restoring parameters from ../third_party/palette_embedding/python/../model/variables/variables\n"
     ]
    }
   ],
   "source": [
    "common_colors, cover_rates = extract_common_colors(img)"
   ]
  },
  {
   "cell_type": "code",
   "execution_count": null,
   "id": "killing-wales",
   "metadata": {},
   "outputs": [],
   "source": []
  }
 ],
 "metadata": {
  "kernelspec": {
   "display_name": "Python 3",
   "language": "python",
   "name": "python3"
  },
  "language_info": {
   "codemirror_mode": {
    "name": "ipython",
    "version": 3
   },
   "file_extension": ".py",
   "mimetype": "text/x-python",
   "name": "python",
   "nbconvert_exporter": "python",
   "pygments_lexer": "ipython3",
   "version": "3.8.5"
  }
 },
 "nbformat": 4,
 "nbformat_minor": 5
}
